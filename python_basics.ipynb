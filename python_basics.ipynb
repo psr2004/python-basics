{
  "nbformat": 4,
  "nbformat_minor": 0,
  "metadata": {
    "colab": {
      "provenance": []
    },
    "kernelspec": {
      "name": "python3",
      "display_name": "Python 3"
    },
    "language_info": {
      "name": "python"
    }
  },
  "cells": [
    {
      "cell_type": "markdown",
      "source": [
        "# **Theoretical Questions**"
      ],
      "metadata": {
        "id": "6ICCacPpP407"
      }
    },
    {
      "cell_type": "markdown",
      "source": [
        "1. What is Python, and why is it popular?\n",
        " *   Python is a high-level, interpreted, general-purpose programming language known for its clear syntax and readability. It is popular due to its extensive libraries and frameworks, supportive community, and its flexibility in handling tasks such as web development, data analysis, artificial intelligence, and automation.\n",
        "2.\tWhat is an interpreter in Python?\n",
        " *   An interpreter in Python is a program that reads and executes Python code line by line. It converts human-readable code into machine instructions during runtime, allowing for interactive programming and rapid testing of code.\n",
        "3.\tWhat are pre-defined keywords in Python?\n",
        " *   Pre-defined keywords are reserved words in Python that have special meanings and are part of the language’s syntax. Examples include “if”, “else”, “for”, “while”, “def”, “class”, and others. They cannot be used for naming variables or functions.\n",
        "4.\tCan keywords be used as variable names?\n",
        " *   No, keywords cannot be used as variable names because they are reserved for the language’s specific functions and syntax. Using them as identifiers would lead to errors.\n",
        "5.\tWhat is mutability in Python?\n",
        "  *  Mutability refers to the ability of an object to change its state or contents after it has been created. In Python, mutable objects (like lists and dictionaries) can be modified, while immutable objects (like strings and tuples) cannot be changed once they are created.\n",
        "6.\tWhy are lists mutable, but tuples are immutable?\n",
        "  *  Lists are designed to be flexible, allowing elements to be added, removed, or modified. Tuples, on the other hand, are intended to represent fixed collections of items, which makes them immutable. This immutability helps protect the integrity of the data when a constant sequence is needed.\n",
        "7.\tWhat is the difference between “==” and “is” operators in Python?\n",
        "  *  The “==” operator is used to compare the values of two objects to determine if they are equal. The “is” operator, however, checks whether the two variables point to the same object in memory (i.e., they are identical).\n",
        "8.\tWhat are logical operators in Python?\n",
        "   * Logical operators in Python include “and”, “or”, and “not”. They are used to combine multiple conditional statements and to control the flow of a program based on Boolean logic.\n",
        "9.\tWhat is type casting in Python?\n",
        "   * Type casting is the process of converting one data type into another. For instance, converting an integer to a string or a float to an integer. This is often necessary for operations that require specific data types.\n",
        "10.\tWhat is the difference between implicit and explicit type casting?\n",
        "   * Implicit type casting happens automatically by Python when it converts one data type to another during operations, such as combining an integer with a float. Explicit type casting, on the other hand, is when the programmer manually converts a data type using functions like int(), float(), or str().\n",
        "11.\tWhat is the purpose of conditional statements in Python?\n",
        "   * Conditional statements, such as if, elif, and else, are used to execute different blocks of code based on certain conditions. They allow a program to make decisions and react differently under various circumstances.\n",
        "12.\tHow does the elif statement work?\n",
        "   * The “elif” statement, short for “else if”, provides an additional condition to check if the previous “if” (or “elif”) condition was false. It allows multiple conditions to be tested in sequence, with the first true condition executing its associated block of code.\n",
        "13.\tWhat is the difference between for and while loops?\n",
        "   * A for loop is used for iterating over a sequence (such as a list, tuple, or string) and is typically employed when the number of iterations is known beforehand. A while loop, however, continues to execute a block of code as long as a specified condition remains true, making it suitable for scenarios where the number of iterations is not predetermined.\n",
        "14.\tDescribe a scenario where a while loop is more suitable than a for loop?\n",
        "   * A while loop is more suitable in cases where the number of iterations is unknown. For example, when repeatedly prompting a user for valid input until they provide a correct response, or when monitoring a condition (like waiting for a sensor signal) that might change unpredictably, a while loop offers the necessary flexibility.\n"
      ],
      "metadata": {
        "id": "GzCwNBxWQKvd"
      }
    },
    {
      "cell_type": "markdown",
      "source": [
        "# **Practical Questions**"
      ],
      "metadata": {
        "id": "XIJAapswPt8G"
      }
    },
    {
      "cell_type": "code",
      "execution_count": 4,
      "metadata": {
        "id": "VhPNUtlBAnXu",
        "colab": {
          "base_uri": "https://localhost:8080/"
        },
        "outputId": "196ae43a-b207-4d9d-975b-27b6ce1f3c83"
      },
      "outputs": [
        {
          "output_type": "stream",
          "name": "stdout",
          "text": [
            "Hello, World!\n"
          ]
        }
      ],
      "source": [
        "# 1. Write a Python program to print \"Hello, World!\"\n",
        "print(\"Hello, World!\")"
      ]
    },
    {
      "cell_type": "code",
      "source": [
        "# 2. Write a Python program that displays your name and age.\n",
        "name = \"Suneeth\"\n",
        "age = 19\n",
        "print(\"Name:\", name)\n",
        "print(\"Age:\", age)\n"
      ],
      "metadata": {
        "colab": {
          "base_uri": "https://localhost:8080/"
        },
        "id": "nEmGHKf_NZiR",
        "outputId": "225cb277-8885-4220-9ae1-89d56265adaf"
      },
      "execution_count": 5,
      "outputs": [
        {
          "output_type": "stream",
          "name": "stdout",
          "text": [
            "Name: Suneeth\n",
            "Age: 19\n"
          ]
        }
      ]
    },
    {
      "cell_type": "code",
      "source": [
        "# 3. Write code to print all the pre-defined keywords in Python using the keyword library.\n",
        "\n",
        "import keyword\n",
        "print(\"Python keywords:\")\n",
        "for kw in keyword.kwlist:\n",
        "    print(kw)\n"
      ],
      "metadata": {
        "id": "u5f963IpNhCN",
        "colab": {
          "base_uri": "https://localhost:8080/"
        },
        "outputId": "ba967fb3-0027-4a7e-b585-29d912ab3d39"
      },
      "execution_count": 6,
      "outputs": [
        {
          "output_type": "stream",
          "name": "stdout",
          "text": [
            "Python keywords:\n",
            "False\n",
            "None\n",
            "True\n",
            "and\n",
            "as\n",
            "assert\n",
            "async\n",
            "await\n",
            "break\n",
            "class\n",
            "continue\n",
            "def\n",
            "del\n",
            "elif\n",
            "else\n",
            "except\n",
            "finally\n",
            "for\n",
            "from\n",
            "global\n",
            "if\n",
            "import\n",
            "in\n",
            "is\n",
            "lambda\n",
            "nonlocal\n",
            "not\n",
            "or\n",
            "pass\n",
            "raise\n",
            "return\n",
            "try\n",
            "while\n",
            "with\n",
            "yield\n"
          ]
        }
      ]
    },
    {
      "cell_type": "code",
      "source": [
        "# 4. Write a program that checks if a given word is a Python keyword.\n",
        "\n",
        "import keyword\n",
        "word = input(\"Enter a word: \")\n",
        "if keyword.iskeyword(word):\n",
        "    print(f\"'{word}' is a Python keyword.\")\n",
        "else:\n",
        "    print(f\"'{word}' is not a Python keyword.\")\n"
      ],
      "metadata": {
        "colab": {
          "base_uri": "https://localhost:8080/"
        },
        "id": "qBQ_w0r7NrZE",
        "outputId": "271b6351-6465-4976-dc04-ac8d1c1fea1c"
      },
      "execution_count": 7,
      "outputs": [
        {
          "output_type": "stream",
          "name": "stdout",
          "text": [
            "Enter a word: if\n",
            "'if' is a Python keyword.\n"
          ]
        }
      ]
    },
    {
      "cell_type": "code",
      "source": [
        "# 5. Create a list and tuple in Python, and demonstrate how attempting to change an element works differently for each.\n",
        "\n",
        "my_list = [1, 2, 3]\n",
        "print(\"Original list:\", my_list)\n",
        "my_list[0] = 99\n",
        "print(\"Modified list:\", my_list)\n",
        "\n",
        "my_tuple = (1, 2, 3)\n",
        "print(\"Original tuple:\", my_tuple)\n",
        "try:\n",
        "    my_tuple[0] = 99\n",
        "except TypeError as e:\n",
        "    print(\"Error:\", e)\n"
      ],
      "metadata": {
        "colab": {
          "base_uri": "https://localhost:8080/"
        },
        "id": "5eu1arxdODrl",
        "outputId": "0eac2224-238b-4334-e582-f9fabc3cb456"
      },
      "execution_count": 8,
      "outputs": [
        {
          "output_type": "stream",
          "name": "stdout",
          "text": [
            "Original list: [1, 2, 3]\n",
            "Modified list: [99, 2, 3]\n",
            "Original tuple: (1, 2, 3)\n",
            "Error: 'tuple' object does not support item assignment\n"
          ]
        }
      ]
    },
    {
      "cell_type": "code",
      "source": [
        "# 6. Write a function to demonstrate the behavior of mutable and immutable arguments.\n",
        "def modify_args(immutable_arg, mutable_arg):\n",
        "    print(\"Before modification:\")\n",
        "    print(\"Immutable:\", immutable_arg)\n",
        "    print(\"Mutable:\", mutable_arg)\n",
        "\n",
        "    immutable_arg = immutable_arg + 10\n",
        "\n",
        "    mutable_arg.append(10)\n",
        "\n",
        "    print(\"After modification:\")\n",
        "    print(\"Immutable:\", immutable_arg)\n",
        "    print(\"Mutable:\", mutable_arg)\n",
        "\n",
        "num = 5\n",
        "lst = [1, 2, 3]\n",
        "\n",
        "modify_args(num, lst)\n",
        "print(\"Outside the function:\")\n",
        "print(\"num:\", num)\n",
        "print(\"lst:\", lst)"
      ],
      "metadata": {
        "colab": {
          "base_uri": "https://localhost:8080/"
        },
        "id": "tFesQTSSOOIg",
        "outputId": "926302b7-1b31-4caf-a39a-ad166d0c16f4"
      },
      "execution_count": 9,
      "outputs": [
        {
          "output_type": "stream",
          "name": "stdout",
          "text": [
            "Before modification:\n",
            "Immutable: 5\n",
            "Mutable: [1, 2, 3]\n",
            "After modification:\n",
            "Immutable: 15\n",
            "Mutable: [1, 2, 3, 10]\n",
            "Outside the function:\n",
            "num: 5\n",
            "lst: [1, 2, 3, 10]\n"
          ]
        }
      ]
    },
    {
      "cell_type": "code",
      "source": [
        "# 7. Write a function to demonstrate the behavior of mutable and immutable arguments.\n",
        "def modify_args(immutable_arg, mutable_arg):\n",
        "    print(\"Before modification:\")\n",
        "    print(\"Immutable:\", immutable_arg)\n",
        "    print(\"Mutable:\", mutable_arg)\n",
        "\n",
        "    immutable_arg = immutable_arg + 10\n",
        "\n",
        "    mutable_arg.append(10)\n",
        "\n",
        "    print(\"After modification:\")\n",
        "    print(\"Immutable:\", immutable_arg)\n",
        "    print(\"Mutable:\", mutable_arg)\n",
        "\n",
        "num = 5\n",
        "lst = [1, 2, 3]\n",
        "\n",
        "modify_args(num, lst)\n",
        "print(\"Outside the function:\")\n",
        "print(\"num:\", num)\n",
        "print(\"lst:\", lst)"
      ],
      "metadata": {
        "id": "hXqxmANAOUlQ",
        "colab": {
          "base_uri": "https://localhost:8080/"
        },
        "outputId": "c28a5434-3c4a-4503-b6ef-294dd6434ada"
      },
      "execution_count": 10,
      "outputs": [
        {
          "output_type": "stream",
          "name": "stdout",
          "text": [
            "Before modification:\n",
            "Immutable: 5\n",
            "Mutable: [1, 2, 3]\n",
            "After modification:\n",
            "Immutable: 15\n",
            "Mutable: [1, 2, 3, 10]\n",
            "Outside the function:\n",
            "num: 5\n",
            "lst: [1, 2, 3, 10]\n"
          ]
        }
      ]
    },
    {
      "cell_type": "code",
      "source": [
        "# 8. Write a program to demonstrate the use of logical operators.\n",
        "a = True\n",
        "b = False\n",
        "\n",
        "print(\"a and b:\", a and b)\n",
        "print(\"a or b:\", a or b)\n",
        "print(\"not a:\", not a)\n",
        "\n",
        "# Combined example:\n",
        "x = 5\n",
        "if x > 0 and x < 10:\n",
        "    print(\"x is between 0 and 10\")\n"
      ],
      "metadata": {
        "id": "9OViUXX1OXtS",
        "colab": {
          "base_uri": "https://localhost:8080/"
        },
        "outputId": "ff3e5d87-b370-43fe-edd3-922d55b654cc"
      },
      "execution_count": 11,
      "outputs": [
        {
          "output_type": "stream",
          "name": "stdout",
          "text": [
            "a and b: False\n",
            "a or b: True\n",
            "not a: False\n",
            "x is between 0 and 10\n"
          ]
        }
      ]
    },
    {
      "cell_type": "code",
      "source": [
        "# 9. Write a Python program to convert user input from string to integer, float, and boolean types.\n",
        "user_input = input(\"Enter a value: \")\n",
        "\n",
        "try:\n",
        "    int_value = int(user_input)\n",
        "    print(\"Integer:\", int_value)\n",
        "except ValueError:\n",
        "    print(\"Cannot convert to integer.\")\n",
        "\n",
        "try:\n",
        "    float_value = float(user_input)\n",
        "    print(\"Float:\", float_value)\n",
        "except ValueError:\n",
        "    print(\"Cannot convert to float.\")\n",
        "\n",
        "bool_value = bool(user_input)\n",
        "print(\"Boolean:\", bool_value)\n"
      ],
      "metadata": {
        "id": "sXEQt5asOXwC",
        "colab": {
          "base_uri": "https://localhost:8080/"
        },
        "outputId": "d888d999-a6f0-4efc-d57d-98475e9a1b2e"
      },
      "execution_count": 12,
      "outputs": [
        {
          "output_type": "stream",
          "name": "stdout",
          "text": [
            "Enter a value: 12\n",
            "Integer: 12\n",
            "Float: 12.0\n",
            "Boolean: True\n"
          ]
        }
      ]
    },
    {
      "cell_type": "code",
      "source": [
        "# 10. Write code to demonstrate type casting with list elements.\n",
        "\n",
        "str_list = [\"1\", \"2\", \"3\", \"4\", \"5\"]\n",
        "print(\"Original list:\", str_list)\n",
        "\n",
        "\n",
        "int_list = [int(item) for item in str_list]\n",
        "print(\"List after type casting to integers:\", int_list)\n"
      ],
      "metadata": {
        "id": "reFTfEaNOXyd",
        "colab": {
          "base_uri": "https://localhost:8080/"
        },
        "outputId": "04fd3425-8d63-4bf2-85b2-c7cad187d4b4"
      },
      "execution_count": 13,
      "outputs": [
        {
          "output_type": "stream",
          "name": "stdout",
          "text": [
            "Original list: ['1', '2', '3', '4', '5']\n",
            "List after type casting to integers: [1, 2, 3, 4, 5]\n"
          ]
        }
      ]
    },
    {
      "cell_type": "code",
      "source": [
        "# 11. Write a program that checks if a number is positive, negative, or zero.\n",
        "number = float(input(\"Enter a number: \"))\n",
        "\n",
        "if number > 0:\n",
        "    print(\"The number is positive.\")\n",
        "elif number < 0:\n",
        "    print(\"The number is negative.\")\n",
        "else:\n",
        "    print(\"The number is zero.\")\n"
      ],
      "metadata": {
        "id": "Cf2zk1pEOX0w",
        "colab": {
          "base_uri": "https://localhost:8080/"
        },
        "outputId": "b9b4c09e-9f5b-420d-a8de-6c5390fc1305"
      },
      "execution_count": 14,
      "outputs": [
        {
          "output_type": "stream",
          "name": "stdout",
          "text": [
            "Enter a number: 5\n",
            "The number is positive.\n"
          ]
        }
      ]
    },
    {
      "cell_type": "code",
      "source": [
        "# 12. Write a for loop to print numbers from 1 to 10.\n",
        "for i in range(1, 11):\n",
        "    print(i)"
      ],
      "metadata": {
        "id": "hx_ga599Odjr",
        "colab": {
          "base_uri": "https://localhost:8080/"
        },
        "outputId": "5eb60687-814d-4e2b-87ce-83868b61a33e"
      },
      "execution_count": 15,
      "outputs": [
        {
          "output_type": "stream",
          "name": "stdout",
          "text": [
            "1\n",
            "2\n",
            "3\n",
            "4\n",
            "5\n",
            "6\n",
            "7\n",
            "8\n",
            "9\n",
            "10\n"
          ]
        }
      ]
    },
    {
      "cell_type": "code",
      "source": [
        "# 13. Write a Python program to find the sum of all even numbers between 1 and 50.\n",
        "total = 0\n",
        "for num in range(1, 51):\n",
        "    if num % 2 == 0:\n",
        "        total += num\n",
        "print(\"Sum of even numbers between 1 and 50:\", total)\n"
      ],
      "metadata": {
        "colab": {
          "base_uri": "https://localhost:8080/"
        },
        "id": "boT_YwV2PQne",
        "outputId": "3b3ae80a-74c8-4084-b306-faf400d0a4b6"
      },
      "execution_count": 16,
      "outputs": [
        {
          "output_type": "stream",
          "name": "stdout",
          "text": [
            "Sum of even numbers between 1 and 50: 650\n"
          ]
        }
      ]
    },
    {
      "cell_type": "code",
      "source": [
        "# 14. Write a program to reverse a string using a while loop.\n",
        "s = input(\"Enter a string: \")\n",
        "reversed_s = \"\"\n",
        "index = len(s) - 1\n",
        "\n",
        "while index >= 0:\n",
        "    reversed_s += s[index]\n",
        "    index -= 1\n",
        "\n",
        "print(\"Reversed string:\", reversed_s)\n"
      ],
      "metadata": {
        "colab": {
          "base_uri": "https://localhost:8080/"
        },
        "id": "Cz0ood-lPQqR",
        "outputId": "8fb208f2-3931-4c94-d2ee-da3302966ebf"
      },
      "execution_count": 17,
      "outputs": [
        {
          "output_type": "stream",
          "name": "stdout",
          "text": [
            "Enter a string: abbab\n",
            "Reversed string: babba\n"
          ]
        }
      ]
    },
    {
      "cell_type": "code",
      "source": [
        "# 15. Write a Python program to calculate the factorial of a number provided by the user using a while loop.\n",
        "number = int(input(\"Enter a non-negative integer: \"))\n",
        "\n",
        "if number < 0:\n",
        "    print(\"Factorial is not defined for negative numbers.\")\n",
        "else:\n",
        "    factorial = 1\n",
        "    n = number\n",
        "    while n > 0:\n",
        "        factorial *= n\n",
        "        n -= 1\n",
        "    print(f\"The factorial of {number} is {factorial}.\")\n"
      ],
      "metadata": {
        "colab": {
          "base_uri": "https://localhost:8080/"
        },
        "id": "Gwnn-92hPUHT",
        "outputId": "89a6a82f-66b4-4e32-f9e3-7ac8e0e49be2"
      },
      "execution_count": 18,
      "outputs": [
        {
          "output_type": "stream",
          "name": "stdout",
          "text": [
            "Enter a non-negative integer: 5\n",
            "The factorial of 5 is 120.\n"
          ]
        }
      ]
    }
  ]
}